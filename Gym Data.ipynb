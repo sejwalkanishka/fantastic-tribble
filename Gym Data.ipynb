{
 "cells": [
  {
   "cell_type": "code",
   "execution_count": 1,
   "id": "6e1bd3aa",
   "metadata": {},
   "outputs": [],
   "source": [
    "#import the important libraries\n",
    "import pandas as pd\n",
    "import matplotlib.pyplot as plt \n",
    "import seaborn as  sns"
   ]
  },
  {
   "cell_type": "code",
   "execution_count": 3,
   "id": "4b178c09",
   "metadata": {},
   "outputs": [],
   "source": [
    "#read the data\n",
    "df=pd.read_csv(\"gym_members_exercise_tracking.csv\",encoding=\"ISO-8859-1\")"
   ]
  },
  {
   "cell_type": "code",
   "execution_count": 4,
   "id": "018cc461",
   "metadata": {},
   "outputs": [
    {
     "data": {
      "text/html": [
       "<div>\n",
       "<style scoped>\n",
       "    .dataframe tbody tr th:only-of-type {\n",
       "        vertical-align: middle;\n",
       "    }\n",
       "\n",
       "    .dataframe tbody tr th {\n",
       "        vertical-align: top;\n",
       "    }\n",
       "\n",
       "    .dataframe thead th {\n",
       "        text-align: right;\n",
       "    }\n",
       "</style>\n",
       "<table border=\"1\" class=\"dataframe\">\n",
       "  <thead>\n",
       "    <tr style=\"text-align: right;\">\n",
       "      <th></th>\n",
       "      <th>Age</th>\n",
       "      <th>Gender</th>\n",
       "      <th>Weight (kg)</th>\n",
       "      <th>Height (m)</th>\n",
       "      <th>Max_BPM</th>\n",
       "      <th>Avg_BPM</th>\n",
       "      <th>Resting_BPM</th>\n",
       "      <th>Session_Duration (hours)</th>\n",
       "      <th>Calories_Burned</th>\n",
       "      <th>Workout_Type</th>\n",
       "      <th>Fat_Percentage</th>\n",
       "      <th>Water_Intake (liters)</th>\n",
       "      <th>Workout_Frequency (days/week)</th>\n",
       "      <th>Experience_Level</th>\n",
       "      <th>BMI</th>\n",
       "    </tr>\n",
       "  </thead>\n",
       "  <tbody>\n",
       "    <tr>\n",
       "      <th>0</th>\n",
       "      <td>56</td>\n",
       "      <td>Male</td>\n",
       "      <td>88.3</td>\n",
       "      <td>1.71</td>\n",
       "      <td>180</td>\n",
       "      <td>157</td>\n",
       "      <td>60</td>\n",
       "      <td>1.69</td>\n",
       "      <td>1313</td>\n",
       "      <td>Yoga</td>\n",
       "      <td>12.6</td>\n",
       "      <td>3.5</td>\n",
       "      <td>4</td>\n",
       "      <td>3</td>\n",
       "      <td>30.20</td>\n",
       "    </tr>\n",
       "    <tr>\n",
       "      <th>1</th>\n",
       "      <td>46</td>\n",
       "      <td>Female</td>\n",
       "      <td>74.9</td>\n",
       "      <td>1.53</td>\n",
       "      <td>179</td>\n",
       "      <td>151</td>\n",
       "      <td>66</td>\n",
       "      <td>1.30</td>\n",
       "      <td>883</td>\n",
       "      <td>HIIT</td>\n",
       "      <td>33.9</td>\n",
       "      <td>2.1</td>\n",
       "      <td>4</td>\n",
       "      <td>2</td>\n",
       "      <td>32.00</td>\n",
       "    </tr>\n",
       "    <tr>\n",
       "      <th>2</th>\n",
       "      <td>32</td>\n",
       "      <td>Female</td>\n",
       "      <td>68.1</td>\n",
       "      <td>1.66</td>\n",
       "      <td>167</td>\n",
       "      <td>122</td>\n",
       "      <td>54</td>\n",
       "      <td>1.11</td>\n",
       "      <td>677</td>\n",
       "      <td>Cardio</td>\n",
       "      <td>33.4</td>\n",
       "      <td>2.3</td>\n",
       "      <td>4</td>\n",
       "      <td>2</td>\n",
       "      <td>24.71</td>\n",
       "    </tr>\n",
       "    <tr>\n",
       "      <th>3</th>\n",
       "      <td>25</td>\n",
       "      <td>Male</td>\n",
       "      <td>53.2</td>\n",
       "      <td>1.70</td>\n",
       "      <td>190</td>\n",
       "      <td>164</td>\n",
       "      <td>56</td>\n",
       "      <td>0.59</td>\n",
       "      <td>532</td>\n",
       "      <td>Strength</td>\n",
       "      <td>28.8</td>\n",
       "      <td>2.1</td>\n",
       "      <td>3</td>\n",
       "      <td>1</td>\n",
       "      <td>18.41</td>\n",
       "    </tr>\n",
       "    <tr>\n",
       "      <th>4</th>\n",
       "      <td>38</td>\n",
       "      <td>Male</td>\n",
       "      <td>46.1</td>\n",
       "      <td>1.79</td>\n",
       "      <td>188</td>\n",
       "      <td>158</td>\n",
       "      <td>68</td>\n",
       "      <td>0.64</td>\n",
       "      <td>556</td>\n",
       "      <td>Strength</td>\n",
       "      <td>29.2</td>\n",
       "      <td>2.8</td>\n",
       "      <td>3</td>\n",
       "      <td>1</td>\n",
       "      <td>14.39</td>\n",
       "    </tr>\n",
       "    <tr>\n",
       "      <th>...</th>\n",
       "      <td>...</td>\n",
       "      <td>...</td>\n",
       "      <td>...</td>\n",
       "      <td>...</td>\n",
       "      <td>...</td>\n",
       "      <td>...</td>\n",
       "      <td>...</td>\n",
       "      <td>...</td>\n",
       "      <td>...</td>\n",
       "      <td>...</td>\n",
       "      <td>...</td>\n",
       "      <td>...</td>\n",
       "      <td>...</td>\n",
       "      <td>...</td>\n",
       "      <td>...</td>\n",
       "    </tr>\n",
       "    <tr>\n",
       "      <th>968</th>\n",
       "      <td>24</td>\n",
       "      <td>Male</td>\n",
       "      <td>87.1</td>\n",
       "      <td>1.74</td>\n",
       "      <td>187</td>\n",
       "      <td>158</td>\n",
       "      <td>67</td>\n",
       "      <td>1.57</td>\n",
       "      <td>1364</td>\n",
       "      <td>Strength</td>\n",
       "      <td>10.0</td>\n",
       "      <td>3.5</td>\n",
       "      <td>4</td>\n",
       "      <td>3</td>\n",
       "      <td>28.77</td>\n",
       "    </tr>\n",
       "    <tr>\n",
       "      <th>969</th>\n",
       "      <td>25</td>\n",
       "      <td>Male</td>\n",
       "      <td>66.6</td>\n",
       "      <td>1.61</td>\n",
       "      <td>184</td>\n",
       "      <td>166</td>\n",
       "      <td>56</td>\n",
       "      <td>1.38</td>\n",
       "      <td>1260</td>\n",
       "      <td>Strength</td>\n",
       "      <td>25.0</td>\n",
       "      <td>3.0</td>\n",
       "      <td>2</td>\n",
       "      <td>1</td>\n",
       "      <td>25.69</td>\n",
       "    </tr>\n",
       "    <tr>\n",
       "      <th>970</th>\n",
       "      <td>59</td>\n",
       "      <td>Female</td>\n",
       "      <td>60.4</td>\n",
       "      <td>1.76</td>\n",
       "      <td>194</td>\n",
       "      <td>120</td>\n",
       "      <td>53</td>\n",
       "      <td>1.72</td>\n",
       "      <td>929</td>\n",
       "      <td>Cardio</td>\n",
       "      <td>18.8</td>\n",
       "      <td>2.7</td>\n",
       "      <td>5</td>\n",
       "      <td>3</td>\n",
       "      <td>19.50</td>\n",
       "    </tr>\n",
       "    <tr>\n",
       "      <th>971</th>\n",
       "      <td>32</td>\n",
       "      <td>Male</td>\n",
       "      <td>126.4</td>\n",
       "      <td>1.83</td>\n",
       "      <td>198</td>\n",
       "      <td>146</td>\n",
       "      <td>62</td>\n",
       "      <td>1.10</td>\n",
       "      <td>883</td>\n",
       "      <td>HIIT</td>\n",
       "      <td>28.2</td>\n",
       "      <td>2.1</td>\n",
       "      <td>3</td>\n",
       "      <td>2</td>\n",
       "      <td>37.74</td>\n",
       "    </tr>\n",
       "    <tr>\n",
       "      <th>972</th>\n",
       "      <td>46</td>\n",
       "      <td>Male</td>\n",
       "      <td>88.7</td>\n",
       "      <td>1.63</td>\n",
       "      <td>166</td>\n",
       "      <td>146</td>\n",
       "      <td>66</td>\n",
       "      <td>0.75</td>\n",
       "      <td>542</td>\n",
       "      <td>Strength</td>\n",
       "      <td>28.8</td>\n",
       "      <td>3.5</td>\n",
       "      <td>2</td>\n",
       "      <td>1</td>\n",
       "      <td>33.38</td>\n",
       "    </tr>\n",
       "  </tbody>\n",
       "</table>\n",
       "<p>973 rows × 15 columns</p>\n",
       "</div>"
      ],
      "text/plain": [
       "     Age  Gender  Weight (kg)  Height (m)  Max_BPM  Avg_BPM  Resting_BPM  \\\n",
       "0     56    Male         88.3        1.71      180      157           60   \n",
       "1     46  Female         74.9        1.53      179      151           66   \n",
       "2     32  Female         68.1        1.66      167      122           54   \n",
       "3     25    Male         53.2        1.70      190      164           56   \n",
       "4     38    Male         46.1        1.79      188      158           68   \n",
       "..   ...     ...          ...         ...      ...      ...          ...   \n",
       "968   24    Male         87.1        1.74      187      158           67   \n",
       "969   25    Male         66.6        1.61      184      166           56   \n",
       "970   59  Female         60.4        1.76      194      120           53   \n",
       "971   32    Male        126.4        1.83      198      146           62   \n",
       "972   46    Male         88.7        1.63      166      146           66   \n",
       "\n",
       "     Session_Duration (hours)  Calories_Burned Workout_Type  Fat_Percentage  \\\n",
       "0                        1.69             1313         Yoga            12.6   \n",
       "1                        1.30              883         HIIT            33.9   \n",
       "2                        1.11              677       Cardio            33.4   \n",
       "3                        0.59              532     Strength            28.8   \n",
       "4                        0.64              556     Strength            29.2   \n",
       "..                        ...              ...          ...             ...   \n",
       "968                      1.57             1364     Strength            10.0   \n",
       "969                      1.38             1260     Strength            25.0   \n",
       "970                      1.72              929       Cardio            18.8   \n",
       "971                      1.10              883         HIIT            28.2   \n",
       "972                      0.75              542     Strength            28.8   \n",
       "\n",
       "     Water_Intake (liters)  Workout_Frequency (days/week)  Experience_Level  \\\n",
       "0                      3.5                              4                 3   \n",
       "1                      2.1                              4                 2   \n",
       "2                      2.3                              4                 2   \n",
       "3                      2.1                              3                 1   \n",
       "4                      2.8                              3                 1   \n",
       "..                     ...                            ...               ...   \n",
       "968                    3.5                              4                 3   \n",
       "969                    3.0                              2                 1   \n",
       "970                    2.7                              5                 3   \n",
       "971                    2.1                              3                 2   \n",
       "972                    3.5                              2                 1   \n",
       "\n",
       "       BMI  \n",
       "0    30.20  \n",
       "1    32.00  \n",
       "2    24.71  \n",
       "3    18.41  \n",
       "4    14.39  \n",
       "..     ...  \n",
       "968  28.77  \n",
       "969  25.69  \n",
       "970  19.50  \n",
       "971  37.74  \n",
       "972  33.38  \n",
       "\n",
       "[973 rows x 15 columns]"
      ]
     },
     "execution_count": 4,
     "metadata": {},
     "output_type": "execute_result"
    }
   ],
   "source": [
    "#call the data\n",
    "df"
   ]
  },
  {
   "cell_type": "code",
   "execution_count": 5,
   "id": "c746c520",
   "metadata": {},
   "outputs": [
    {
     "data": {
      "text/plain": [
       "Index(['Age', 'Gender', 'Weight (kg)', 'Height (m)', 'Max_BPM', 'Avg_BPM',\n",
       "       'Resting_BPM', 'Session_Duration (hours)', 'Calories_Burned',\n",
       "       'Workout_Type', 'Fat_Percentage', 'Water_Intake (liters)',\n",
       "       'Workout_Frequency (days/week)', 'Experience_Level', 'BMI'],\n",
       "      dtype='object')"
      ]
     },
     "execution_count": 5,
     "metadata": {},
     "output_type": "execute_result"
    }
   ],
   "source": [
    "#Q1 Display the column names of the dataset.                                                                                                  \t                                     \t\n",
    "df.columns"
   ]
  },
  {
   "cell_type": "code",
   "execution_count": 6,
   "id": "e43b276a",
   "metadata": {},
   "outputs": [
    {
     "data": {
      "text/plain": [
       "(973, 15)"
      ]
     },
     "execution_count": 6,
     "metadata": {},
     "output_type": "execute_result"
    }
   ],
   "source": [
    "#Q2 Check the number of rows and columns in the dataset.\n",
    "df.shape"
   ]
  },
  {
   "cell_type": "code",
   "execution_count": 7,
   "id": "52347c5e",
   "metadata": {},
   "outputs": [
    {
     "data": {
      "text/plain": [
       "Age                                int64\n",
       "Gender                            object\n",
       "Weight (kg)                      float64\n",
       "Height (m)                       float64\n",
       "Max_BPM                            int64\n",
       "Avg_BPM                            int64\n",
       "Resting_BPM                        int64\n",
       "Session_Duration (hours)         float64\n",
       "Calories_Burned                    int64\n",
       "Workout_Type                      object\n",
       "Fat_Percentage                   float64\n",
       "Water_Intake (liters)            float64\n",
       "Workout_Frequency (days/week)      int64\n",
       "Experience_Level                   int64\n",
       "BMI                              float64\n",
       "dtype: object"
      ]
     },
     "execution_count": 7,
     "metadata": {},
     "output_type": "execute_result"
    }
   ],
   "source": [
    "#Q3 Identify the data types of each column.\n",
    "df.dtypes"
   ]
  },
  {
   "cell_type": "code",
   "execution_count": 8,
   "id": "edb665f2",
   "metadata": {},
   "outputs": [
    {
     "data": {
      "text/plain": [
       "Age                              0\n",
       "Gender                           0\n",
       "Weight (kg)                      0\n",
       "Height (m)                       0\n",
       "Max_BPM                          0\n",
       "Avg_BPM                          0\n",
       "Resting_BPM                      0\n",
       "Session_Duration (hours)         0\n",
       "Calories_Burned                  0\n",
       "Workout_Type                     0\n",
       "Fat_Percentage                   0\n",
       "Water_Intake (liters)            0\n",
       "Workout_Frequency (days/week)    0\n",
       "Experience_Level                 0\n",
       "BMI                              0\n",
       "dtype: int64"
      ]
     },
     "execution_count": 8,
     "metadata": {},
     "output_type": "execute_result"
    }
   ],
   "source": [
    "#Q4 Check for any missing values in the dataset\n",
    "df.isnull().sum()"
   ]
  },
  {
   "cell_type": "code",
   "execution_count": 9,
   "id": "b8cebae8",
   "metadata": {},
   "outputs": [
    {
     "data": {
      "text/plain": [
       "Age                               42\n",
       "Gender                             2\n",
       "Weight (kg)                      532\n",
       "Height (m)                        51\n",
       "Max_BPM                           40\n",
       "Avg_BPM                           50\n",
       "Resting_BPM                       25\n",
       "Session_Duration (hours)         147\n",
       "Calories_Burned                  621\n",
       "Workout_Type                       4\n",
       "Fat_Percentage                   239\n",
       "Water_Intake (liters)             23\n",
       "Workout_Frequency (days/week)      4\n",
       "Experience_Level                   3\n",
       "BMI                              771\n",
       "dtype: int64"
      ]
     },
     "execution_count": 9,
     "metadata": {},
     "output_type": "execute_result"
    }
   ],
   "source": [
    "#Q5 Find the number of unique values in each column\n",
    "df.nunique()"
   ]
  },
  {
   "cell_type": "code",
   "execution_count": 12,
   "id": "a4386dbb",
   "metadata": {},
   "outputs": [
    {
     "data": {
      "text/html": [
       "<div>\n",
       "<style scoped>\n",
       "    .dataframe tbody tr th:only-of-type {\n",
       "        vertical-align: middle;\n",
       "    }\n",
       "\n",
       "    .dataframe tbody tr th {\n",
       "        vertical-align: top;\n",
       "    }\n",
       "\n",
       "    .dataframe thead th {\n",
       "        text-align: right;\n",
       "    }\n",
       "</style>\n",
       "<table border=\"1\" class=\"dataframe\">\n",
       "  <thead>\n",
       "    <tr style=\"text-align: right;\">\n",
       "      <th></th>\n",
       "      <th>Age</th>\n",
       "      <th>Weight (kg)</th>\n",
       "      <th>Height (m)</th>\n",
       "      <th>Max_BPM</th>\n",
       "      <th>Avg_BPM</th>\n",
       "      <th>Resting_BPM</th>\n",
       "      <th>Session_Duration (hours)</th>\n",
       "      <th>Calories_Burned</th>\n",
       "      <th>Fat_Percentage</th>\n",
       "      <th>Water_Intake (liters)</th>\n",
       "      <th>Workout_Frequency (days/week)</th>\n",
       "      <th>Experience_Level</th>\n",
       "      <th>BMI</th>\n",
       "    </tr>\n",
       "  </thead>\n",
       "  <tbody>\n",
       "    <tr>\n",
       "      <th>count</th>\n",
       "      <td>973.00</td>\n",
       "      <td>973.00</td>\n",
       "      <td>973.00</td>\n",
       "      <td>973.00</td>\n",
       "      <td>973.00</td>\n",
       "      <td>973.00</td>\n",
       "      <td>973.00</td>\n",
       "      <td>973.00</td>\n",
       "      <td>973.00</td>\n",
       "      <td>973.00</td>\n",
       "      <td>973.00</td>\n",
       "      <td>973.00</td>\n",
       "      <td>973.00</td>\n",
       "    </tr>\n",
       "    <tr>\n",
       "      <th>mean</th>\n",
       "      <td>38.68</td>\n",
       "      <td>73.85</td>\n",
       "      <td>1.72</td>\n",
       "      <td>179.88</td>\n",
       "      <td>143.77</td>\n",
       "      <td>62.22</td>\n",
       "      <td>1.26</td>\n",
       "      <td>905.42</td>\n",
       "      <td>24.98</td>\n",
       "      <td>2.63</td>\n",
       "      <td>3.32</td>\n",
       "      <td>1.81</td>\n",
       "      <td>24.91</td>\n",
       "    </tr>\n",
       "    <tr>\n",
       "      <th>std</th>\n",
       "      <td>12.18</td>\n",
       "      <td>21.21</td>\n",
       "      <td>0.13</td>\n",
       "      <td>11.53</td>\n",
       "      <td>14.35</td>\n",
       "      <td>7.33</td>\n",
       "      <td>0.34</td>\n",
       "      <td>272.64</td>\n",
       "      <td>6.26</td>\n",
       "      <td>0.60</td>\n",
       "      <td>0.91</td>\n",
       "      <td>0.74</td>\n",
       "      <td>6.66</td>\n",
       "    </tr>\n",
       "    <tr>\n",
       "      <th>min</th>\n",
       "      <td>18.00</td>\n",
       "      <td>40.00</td>\n",
       "      <td>1.50</td>\n",
       "      <td>160.00</td>\n",
       "      <td>120.00</td>\n",
       "      <td>50.00</td>\n",
       "      <td>0.50</td>\n",
       "      <td>303.00</td>\n",
       "      <td>10.00</td>\n",
       "      <td>1.50</td>\n",
       "      <td>2.00</td>\n",
       "      <td>1.00</td>\n",
       "      <td>12.32</td>\n",
       "    </tr>\n",
       "    <tr>\n",
       "      <th>25%</th>\n",
       "      <td>28.00</td>\n",
       "      <td>58.10</td>\n",
       "      <td>1.62</td>\n",
       "      <td>170.00</td>\n",
       "      <td>131.00</td>\n",
       "      <td>56.00</td>\n",
       "      <td>1.04</td>\n",
       "      <td>720.00</td>\n",
       "      <td>21.30</td>\n",
       "      <td>2.20</td>\n",
       "      <td>3.00</td>\n",
       "      <td>1.00</td>\n",
       "      <td>20.11</td>\n",
       "    </tr>\n",
       "    <tr>\n",
       "      <th>50%</th>\n",
       "      <td>40.00</td>\n",
       "      <td>70.00</td>\n",
       "      <td>1.71</td>\n",
       "      <td>180.00</td>\n",
       "      <td>143.00</td>\n",
       "      <td>62.00</td>\n",
       "      <td>1.26</td>\n",
       "      <td>893.00</td>\n",
       "      <td>26.20</td>\n",
       "      <td>2.60</td>\n",
       "      <td>3.00</td>\n",
       "      <td>2.00</td>\n",
       "      <td>24.16</td>\n",
       "    </tr>\n",
       "    <tr>\n",
       "      <th>75%</th>\n",
       "      <td>49.00</td>\n",
       "      <td>86.00</td>\n",
       "      <td>1.80</td>\n",
       "      <td>190.00</td>\n",
       "      <td>156.00</td>\n",
       "      <td>68.00</td>\n",
       "      <td>1.46</td>\n",
       "      <td>1076.00</td>\n",
       "      <td>29.30</td>\n",
       "      <td>3.10</td>\n",
       "      <td>4.00</td>\n",
       "      <td>2.00</td>\n",
       "      <td>28.56</td>\n",
       "    </tr>\n",
       "    <tr>\n",
       "      <th>max</th>\n",
       "      <td>59.00</td>\n",
       "      <td>129.90</td>\n",
       "      <td>2.00</td>\n",
       "      <td>199.00</td>\n",
       "      <td>169.00</td>\n",
       "      <td>74.00</td>\n",
       "      <td>2.00</td>\n",
       "      <td>1783.00</td>\n",
       "      <td>35.00</td>\n",
       "      <td>3.70</td>\n",
       "      <td>5.00</td>\n",
       "      <td>3.00</td>\n",
       "      <td>49.84</td>\n",
       "    </tr>\n",
       "  </tbody>\n",
       "</table>\n",
       "</div>"
      ],
      "text/plain": [
       "          Age  Weight (kg)  Height (m)  Max_BPM  Avg_BPM  Resting_BPM  \\\n",
       "count  973.00       973.00      973.00   973.00   973.00       973.00   \n",
       "mean    38.68        73.85        1.72   179.88   143.77        62.22   \n",
       "std     12.18        21.21        0.13    11.53    14.35         7.33   \n",
       "min     18.00        40.00        1.50   160.00   120.00        50.00   \n",
       "25%     28.00        58.10        1.62   170.00   131.00        56.00   \n",
       "50%     40.00        70.00        1.71   180.00   143.00        62.00   \n",
       "75%     49.00        86.00        1.80   190.00   156.00        68.00   \n",
       "max     59.00       129.90        2.00   199.00   169.00        74.00   \n",
       "\n",
       "       Session_Duration (hours)  Calories_Burned  Fat_Percentage  \\\n",
       "count                    973.00           973.00          973.00   \n",
       "mean                       1.26           905.42           24.98   \n",
       "std                        0.34           272.64            6.26   \n",
       "min                        0.50           303.00           10.00   \n",
       "25%                        1.04           720.00           21.30   \n",
       "50%                        1.26           893.00           26.20   \n",
       "75%                        1.46          1076.00           29.30   \n",
       "max                        2.00          1783.00           35.00   \n",
       "\n",
       "       Water_Intake (liters)  Workout_Frequency (days/week)  Experience_Level  \\\n",
       "count                 973.00                         973.00            973.00   \n",
       "mean                    2.63                           3.32              1.81   \n",
       "std                     0.60                           0.91              0.74   \n",
       "min                     1.50                           2.00              1.00   \n",
       "25%                     2.20                           3.00              1.00   \n",
       "50%                     2.60                           3.00              2.00   \n",
       "75%                     3.10                           4.00              2.00   \n",
       "max                     3.70                           5.00              3.00   \n",
       "\n",
       "          BMI  \n",
       "count  973.00  \n",
       "mean    24.91  \n",
       "std      6.66  \n",
       "min     12.32  \n",
       "25%     20.11  \n",
       "50%     24.16  \n",
       "75%     28.56  \n",
       "max     49.84  "
      ]
     },
     "execution_count": 12,
     "metadata": {},
     "output_type": "execute_result"
    }
   ],
   "source": [
    "#Q6 Show a summary of the dataset's basic statistics (mean, min, max, etc.).\n",
    "df.describe().round(2)"
   ]
  },
  {
   "cell_type": "code",
   "execution_count": 15,
   "id": "b81087ec",
   "metadata": {},
   "outputs": [
    {
     "name": "stdout",
     "output_type": "stream",
     "text": [
      "The number of duplicate members 0\n",
      "Number of members 973\n",
      "Number of unique members 973\n"
     ]
    }
   ],
   "source": [
    "#Q7 How many unique gym members are in the dataset?\n",
    "number_of_duplicate_members =df.duplicated().sum()\n",
    "print(\"The number of duplicate members\",df.duplicated().sum())\n",
    "number_of_members=df.shape[0]\n",
    "print(\"Number of members\",df.shape[0])\n",
    "number_of_unique_members=df.shape[0]-df.duplicated().sum()\n",
    "print(\"Number of unique members\",df.shape[0]-df.duplicated().sum())\n",
    "\n",
    "#This represents all members are unique."
   ]
  },
  {
   "cell_type": "code",
   "execution_count": 20,
   "id": "5311ac69",
   "metadata": {},
   "outputs": [
    {
     "name": "stdout",
     "output_type": "stream",
     "text": [
      "The average duration of excercise per member is 1.26\n"
     ]
    }
   ],
   "source": [
    "#Q8 What is the average duration of exercise per member?\n",
    "df['Session_Duration (hours)'].mean().round(2)\n",
    "print(\"The average duration of excercise per member is\",df['Session_Duration (hours)'].mean().round(2))"
   ]
  },
  {
   "cell_type": "code",
   "execution_count": 16,
   "id": "d7dde3b5",
   "metadata": {},
   "outputs": [
    {
     "data": {
      "text/plain": [
       "Index(['Age', 'Gender', 'Weight (kg)', 'Height (m)', 'Max_BPM', 'Avg_BPM',\n",
       "       'Resting_BPM', 'Session_Duration (hours)', 'Calories_Burned',\n",
       "       'Workout_Type', 'Fat_Percentage', 'Water_Intake (liters)',\n",
       "       'Workout_Frequency (days/week)', 'Experience_Level', 'BMI'],\n",
       "      dtype='object')"
      ]
     },
     "execution_count": 16,
     "metadata": {},
     "output_type": "execute_result"
    }
   ],
   "source": [
    "df.columns"
   ]
  },
  {
   "cell_type": "code",
   "execution_count": 21,
   "id": "e2accfb2",
   "metadata": {},
   "outputs": [
    {
     "data": {
      "text/html": [
       "<div>\n",
       "<style scoped>\n",
       "    .dataframe tbody tr th:only-of-type {\n",
       "        vertical-align: middle;\n",
       "    }\n",
       "\n",
       "    .dataframe tbody tr th {\n",
       "        vertical-align: top;\n",
       "    }\n",
       "\n",
       "    .dataframe thead th {\n",
       "        text-align: right;\n",
       "    }\n",
       "</style>\n",
       "<table border=\"1\" class=\"dataframe\">\n",
       "  <thead>\n",
       "    <tr style=\"text-align: right;\">\n",
       "      <th></th>\n",
       "      <th>Age</th>\n",
       "      <th>Gender</th>\n",
       "      <th>Weight (kg)</th>\n",
       "      <th>Height (m)</th>\n",
       "      <th>Max_BPM</th>\n",
       "      <th>Avg_BPM</th>\n",
       "      <th>Resting_BPM</th>\n",
       "      <th>Session_Duration (hours)</th>\n",
       "      <th>Calories_Burned</th>\n",
       "      <th>Workout_Type</th>\n",
       "      <th>Fat_Percentage</th>\n",
       "      <th>Water_Intake (liters)</th>\n",
       "      <th>Workout_Frequency (days/week)</th>\n",
       "      <th>Experience_Level</th>\n",
       "      <th>BMI</th>\n",
       "    </tr>\n",
       "  </thead>\n",
       "  <tbody>\n",
       "    <tr>\n",
       "      <th>0</th>\n",
       "      <td>56</td>\n",
       "      <td>Male</td>\n",
       "      <td>88.3</td>\n",
       "      <td>1.71</td>\n",
       "      <td>180</td>\n",
       "      <td>157</td>\n",
       "      <td>60</td>\n",
       "      <td>1.69</td>\n",
       "      <td>1313</td>\n",
       "      <td>Yoga</td>\n",
       "      <td>12.6</td>\n",
       "      <td>3.5</td>\n",
       "      <td>4</td>\n",
       "      <td>3</td>\n",
       "      <td>30.2</td>\n",
       "    </tr>\n",
       "    <tr>\n",
       "      <th>1</th>\n",
       "      <td>46</td>\n",
       "      <td>Female</td>\n",
       "      <td>74.9</td>\n",
       "      <td>1.53</td>\n",
       "      <td>179</td>\n",
       "      <td>151</td>\n",
       "      <td>66</td>\n",
       "      <td>1.30</td>\n",
       "      <td>883</td>\n",
       "      <td>HIIT</td>\n",
       "      <td>33.9</td>\n",
       "      <td>2.1</td>\n",
       "      <td>4</td>\n",
       "      <td>2</td>\n",
       "      <td>32.0</td>\n",
       "    </tr>\n",
       "  </tbody>\n",
       "</table>\n",
       "</div>"
      ],
      "text/plain": [
       "   Age  Gender  Weight (kg)  Height (m)  Max_BPM  Avg_BPM  Resting_BPM  \\\n",
       "0   56    Male         88.3        1.71      180      157           60   \n",
       "1   46  Female         74.9        1.53      179      151           66   \n",
       "\n",
       "   Session_Duration (hours)  Calories_Burned Workout_Type  Fat_Percentage  \\\n",
       "0                      1.69             1313         Yoga            12.6   \n",
       "1                      1.30              883         HIIT            33.9   \n",
       "\n",
       "   Water_Intake (liters)  Workout_Frequency (days/week)  Experience_Level  \\\n",
       "0                    3.5                              4                 3   \n",
       "1                    2.1                              4                 2   \n",
       "\n",
       "    BMI  \n",
       "0  30.2  \n",
       "1  32.0  "
      ]
     },
     "execution_count": 21,
     "metadata": {},
     "output_type": "execute_result"
    }
   ],
   "source": [
    "df.head(2)"
   ]
  },
  {
   "cell_type": "code",
   "execution_count": 25,
   "id": "9dddd45f",
   "metadata": {},
   "outputs": [
    {
     "name": "stdout",
     "output_type": "stream",
     "text": [
      "Strength    258\n",
      "Cardio      255\n",
      "Yoga        239\n",
      "HIIT        221\n",
      "Name: Workout_Type, dtype: int64\n",
      "Strenght is the most popular excercise\n"
     ]
    }
   ],
   "source": [
    "#Q9 Which exercise type is the most popular? \n",
    "df['Workout_Type'].value_counts()\n",
    "print(df['Workout_Type'].value_counts())\n",
    "print(\"Strenght is the most popular excercise\")"
   ]
  },
  {
   "cell_type": "code",
   "execution_count": 26,
   "id": "e48ba0cd",
   "metadata": {},
   "outputs": [
    {
     "data": {
      "text/plain": [
       "Workout_Type\n",
       "Cardio      825\n",
       "HIIT        740\n",
       "Strength    866\n",
       "Yoga        801\n",
       "Name: Workout_Frequency (days/week), dtype: int64"
      ]
     },
     "execution_count": 26,
     "metadata": {},
     "output_type": "execute_result"
    }
   ],
   "source": [
    " #Q10 What is the total number of sessions for each exercise type?\n",
    "df.groupby('Workout_Type')['Workout_Frequency (days/week)'].sum()"
   ]
  },
  {
   "cell_type": "code",
   "execution_count": 27,
   "id": "18da2573",
   "metadata": {},
   "outputs": [
    {
     "data": {
      "text/plain": [
       "Age                                    47\n",
       "Gender                               Male\n",
       "Weight (kg)                          87.2\n",
       "Height (m)                           1.64\n",
       "Max_BPM                               177\n",
       "Avg_BPM                               165\n",
       "Resting_BPM                            50\n",
       "Session_Duration (hours)              2.0\n",
       "Calories_Burned                      1634\n",
       "Workout_Type                     Strength\n",
       "Fat_Percentage                       15.0\n",
       "Water_Intake (liters)                 3.5\n",
       "Workout_Frequency (days/week)           4\n",
       "Experience_Level                        3\n",
       "BMI                                 32.42\n",
       "Name: 728, dtype: object"
      ]
     },
     "execution_count": 27,
     "metadata": {},
     "output_type": "execute_result"
    }
   ],
   "source": [
    "#Q11 Find the member with the maximum total exercise duration.                       \n",
    "df.loc[df['Session_Duration (hours)'].idxmax()]"
   ]
  },
  {
   "cell_type": "code",
   "execution_count": 28,
   "id": "d4f0ad58",
   "metadata": {},
   "outputs": [
    {
     "data": {
      "text/plain": [
       "2.0"
      ]
     },
     "execution_count": 28,
     "metadata": {},
     "output_type": "execute_result"
    }
   ],
   "source": [
    "df['Session_Duration (hours)'].max()"
   ]
  },
  {
   "cell_type": "code",
   "execution_count": 29,
   "id": "ddba63ea",
   "metadata": {},
   "outputs": [
    {
     "data": {
      "text/html": [
       "<div>\n",
       "<style scoped>\n",
       "    .dataframe tbody tr th:only-of-type {\n",
       "        vertical-align: middle;\n",
       "    }\n",
       "\n",
       "    .dataframe tbody tr th {\n",
       "        vertical-align: top;\n",
       "    }\n",
       "\n",
       "    .dataframe thead th {\n",
       "        text-align: right;\n",
       "    }\n",
       "</style>\n",
       "<table border=\"1\" class=\"dataframe\">\n",
       "  <thead>\n",
       "    <tr style=\"text-align: right;\">\n",
       "      <th></th>\n",
       "      <th>Age</th>\n",
       "      <th>Gender</th>\n",
       "      <th>Weight (kg)</th>\n",
       "      <th>Height (m)</th>\n",
       "      <th>Max_BPM</th>\n",
       "      <th>Avg_BPM</th>\n",
       "      <th>Resting_BPM</th>\n",
       "      <th>Session_Duration (hours)</th>\n",
       "      <th>Calories_Burned</th>\n",
       "      <th>Workout_Type</th>\n",
       "      <th>Fat_Percentage</th>\n",
       "      <th>Water_Intake (liters)</th>\n",
       "      <th>Workout_Frequency (days/week)</th>\n",
       "      <th>Experience_Level</th>\n",
       "      <th>BMI</th>\n",
       "    </tr>\n",
       "  </thead>\n",
       "  <tbody>\n",
       "    <tr>\n",
       "      <th>0</th>\n",
       "      <td>56</td>\n",
       "      <td>Male</td>\n",
       "      <td>88.3</td>\n",
       "      <td>1.71</td>\n",
       "      <td>180</td>\n",
       "      <td>157</td>\n",
       "      <td>60</td>\n",
       "      <td>1.69</td>\n",
       "      <td>1313</td>\n",
       "      <td>Yoga</td>\n",
       "      <td>12.6</td>\n",
       "      <td>3.5</td>\n",
       "      <td>4</td>\n",
       "      <td>3</td>\n",
       "      <td>30.2</td>\n",
       "    </tr>\n",
       "    <tr>\n",
       "      <th>1</th>\n",
       "      <td>46</td>\n",
       "      <td>Female</td>\n",
       "      <td>74.9</td>\n",
       "      <td>1.53</td>\n",
       "      <td>179</td>\n",
       "      <td>151</td>\n",
       "      <td>66</td>\n",
       "      <td>1.30</td>\n",
       "      <td>883</td>\n",
       "      <td>HIIT</td>\n",
       "      <td>33.9</td>\n",
       "      <td>2.1</td>\n",
       "      <td>4</td>\n",
       "      <td>2</td>\n",
       "      <td>32.0</td>\n",
       "    </tr>\n",
       "  </tbody>\n",
       "</table>\n",
       "</div>"
      ],
      "text/plain": [
       "   Age  Gender  Weight (kg)  Height (m)  Max_BPM  Avg_BPM  Resting_BPM  \\\n",
       "0   56    Male         88.3        1.71      180      157           60   \n",
       "1   46  Female         74.9        1.53      179      151           66   \n",
       "\n",
       "   Session_Duration (hours)  Calories_Burned Workout_Type  Fat_Percentage  \\\n",
       "0                      1.69             1313         Yoga            12.6   \n",
       "1                      1.30              883         HIIT            33.9   \n",
       "\n",
       "   Water_Intake (liters)  Workout_Frequency (days/week)  Experience_Level  \\\n",
       "0                    3.5                              4                 3   \n",
       "1                    2.1                              4                 2   \n",
       "\n",
       "    BMI  \n",
       "0  30.2  \n",
       "1  32.0  "
      ]
     },
     "execution_count": 29,
     "metadata": {},
     "output_type": "execute_result"
    }
   ],
   "source": [
    "df.head(2)"
   ]
  },
  {
   "cell_type": "code",
   "execution_count": 120,
   "id": "ba7e5cb3",
   "metadata": {},
   "outputs": [
    {
     "data": {
      "text/html": [
       "<div>\n",
       "<style scoped>\n",
       "    .dataframe tbody tr th:only-of-type {\n",
       "        vertical-align: middle;\n",
       "    }\n",
       "\n",
       "    .dataframe tbody tr th {\n",
       "        vertical-align: top;\n",
       "    }\n",
       "\n",
       "    .dataframe thead th {\n",
       "        text-align: right;\n",
       "    }\n",
       "</style>\n",
       "<table border=\"1\" class=\"dataframe\">\n",
       "  <thead>\n",
       "    <tr style=\"text-align: right;\">\n",
       "      <th>Workout_Type</th>\n",
       "      <th>Cardio</th>\n",
       "      <th>HIIT</th>\n",
       "      <th>Strength</th>\n",
       "      <th>Yoga</th>\n",
       "    </tr>\n",
       "    <tr>\n",
       "      <th>Workout_Frequency (days/week)</th>\n",
       "      <th></th>\n",
       "      <th></th>\n",
       "      <th></th>\n",
       "      <th></th>\n",
       "    </tr>\n",
       "  </thead>\n",
       "  <tbody>\n",
       "    <tr>\n",
       "      <th>2</th>\n",
       "      <td>63</td>\n",
       "      <td>42</td>\n",
       "      <td>45</td>\n",
       "      <td>47</td>\n",
       "    </tr>\n",
       "    <tr>\n",
       "      <th>3</th>\n",
       "      <td>92</td>\n",
       "      <td>86</td>\n",
       "      <td>102</td>\n",
       "      <td>88</td>\n",
       "    </tr>\n",
       "    <tr>\n",
       "      <th>4</th>\n",
       "      <td>77</td>\n",
       "      <td>67</td>\n",
       "      <td>85</td>\n",
       "      <td>77</td>\n",
       "    </tr>\n",
       "    <tr>\n",
       "      <th>5</th>\n",
       "      <td>23</td>\n",
       "      <td>26</td>\n",
       "      <td>26</td>\n",
       "      <td>27</td>\n",
       "    </tr>\n",
       "  </tbody>\n",
       "</table>\n",
       "</div>"
      ],
      "text/plain": [
       "Workout_Type                   Cardio  HIIT  Strength  Yoga\n",
       "Workout_Frequency (days/week)                              \n",
       "2                                  63    42        45    47\n",
       "3                                  92    86       102    88\n",
       "4                                  77    67        85    77\n",
       "5                                  23    26        26    27"
      ]
     },
     "execution_count": 120,
     "metadata": {},
     "output_type": "execute_result"
    }
   ],
   "source": [
    "#Q12 How many sessions are logged per day of the week?\n",
    "#Find the frequency distribution for the column Workout_Type and Workout_frequency\n",
    "pd.crosstab(df['Workout_Frequency (days/week)'],df['Workout_Type'])"
   ]
  },
  {
   "cell_type": "code",
   "execution_count": 31,
   "id": "9a519c6c",
   "metadata": {},
   "outputs": [
    {
     "data": {
      "text/plain": [
       "Workout_Type\n",
       "Cardio      1.22\n",
       "HIIT        1.29\n",
       "Strength    1.26\n",
       "Yoga        1.26\n",
       "Name: Session_Duration (hours), dtype: float64"
      ]
     },
     "execution_count": 31,
     "metadata": {},
     "output_type": "execute_result"
    }
   ],
   "source": [
    "#Q13 What is the average duration of each exercise type?\n",
    "df.groupby('Workout_Type')['Session_Duration (hours)'].mean().round(2)"
   ]
  },
  {
   "cell_type": "code",
   "execution_count": 125,
   "id": "99aae66a",
   "metadata": {},
   "outputs": [
    {
     "name": "stdout",
     "output_type": "stream",
     "text": [
      "3    368\n",
      "4    306\n",
      "2    197\n",
      "5    102\n",
      "Name: Workout_Frequency (days/week), dtype: int64\n"
     ]
    },
    {
     "data": {
      "image/png": "[encoded data removed]",
      "text/plain": [
       "<Figure size 640x480 with 1 Axes>"
      ]
     },
     "metadata": {},
     "output_type": "display_data"
    }
   ],
   "source": [
    "#Q14 which day of the week has the highest average duration of exercise sessions?  \n",
    "#Q14 Find the unique values of the column \"workout_Frequency\" and find the count of each category\n",
    "#Also make the bar and pie chart\n",
    "df['Workout_Frequency (days/week)'].value_counts()\n",
    "print(df['Workout_Frequency (days/week)'].value_counts())\n",
    "df['Workout_Frequency (days/week)'].value_counts().plot(kind='bar')\n",
    "plt.show()"
   ]
  },
  {
   "cell_type": "code",
   "execution_count": 127,
   "id": "b4e40da3",
   "metadata": {},
   "outputs": [
    {
     "data": {
      "image/png": "[encoded data removed]",
      "text/plain": [
       "<Figure size 640x480 with 1 Axes>"
      ]
     },
     "metadata": {},
     "output_type": "display_data"
    }
   ],
   "source": [
    "df['Workout_Frequency (days/week)'].value_counts().plot(kind='pie',autopct='%0.2f%%')\n",
    "plt.show()"
   ]
  },
  {
   "cell_type": "code",
   "execution_count": 32,
   "id": "188a019f",
   "metadata": {},
   "outputs": [
    {
     "data": {
      "text/plain": [
       "Age                                    47\n",
       "Gender                               Male\n",
       "Weight (kg)                          87.2\n",
       "Height (m)                           1.64\n",
       "Max_BPM                               177\n",
       "Avg_BPM                               165\n",
       "Resting_BPM                            50\n",
       "Session_Duration (hours)              2.0\n",
       "Calories_Burned                      1634\n",
       "Workout_Type                     Strength\n",
       "Fat_Percentage                       15.0\n",
       "Water_Intake (liters)                 3.5\n",
       "Workout_Frequency (days/week)           4\n",
       "Experience_Level                        3\n",
       "BMI                                 32.42\n",
       "Name: 728, dtype: object"
      ]
     },
     "execution_count": 32,
     "metadata": {},
     "output_type": "execute_result"
    }
   ],
   "source": [
    "#Q15 which member has the highest average duration per session?\n",
    "df.loc[df['Session_Duration (hours)'].idxmax()]"
   ]
  },
  {
   "cell_type": "code",
   "execution_count": 35,
   "id": "2af784ad",
   "metadata": {},
   "outputs": [
    {
     "data": {
      "image/png": "[encoded data removed]",
      "text/plain": [
       "<Figure size 640x480 with 1 Axes>"
      ]
     },
     "metadata": {},
     "output_type": "display_data"
    }
   ],
   "source": [
    "#Q16 Plot the total duration of exercise by each member.\n",
    "sns.histplot(df['Session_Duration (hours)'])\n",
    "plt.show()"
   ]
  },
  {
   "cell_type": "code",
   "execution_count": 38,
   "id": "660eaf14",
   "metadata": {},
   "outputs": [
    {
     "data": {
      "text/html": [
       "<div>\n",
       "<style scoped>\n",
       "    .dataframe tbody tr th:only-of-type {\n",
       "        vertical-align: middle;\n",
       "    }\n",
       "\n",
       "    .dataframe tbody tr th {\n",
       "        vertical-align: top;\n",
       "    }\n",
       "\n",
       "    .dataframe thead th {\n",
       "        text-align: right;\n",
       "    }\n",
       "</style>\n",
       "<table border=\"1\" class=\"dataframe\">\n",
       "  <thead>\n",
       "    <tr style=\"text-align: right;\">\n",
       "      <th></th>\n",
       "      <th>Age</th>\n",
       "      <th>Gender</th>\n",
       "      <th>Weight (kg)</th>\n",
       "      <th>Height (m)</th>\n",
       "      <th>Max_BPM</th>\n",
       "      <th>Avg_BPM</th>\n",
       "      <th>Resting_BPM</th>\n",
       "      <th>Session_Duration (hours)</th>\n",
       "      <th>Calories_Burned</th>\n",
       "      <th>Workout_Type</th>\n",
       "      <th>Fat_Percentage</th>\n",
       "      <th>Water_Intake (liters)</th>\n",
       "      <th>Workout_Frequency (days/week)</th>\n",
       "      <th>Experience_Level</th>\n",
       "      <th>BMI</th>\n",
       "    </tr>\n",
       "  </thead>\n",
       "  <tbody>\n",
       "    <tr>\n",
       "      <th>728</th>\n",
       "      <td>47</td>\n",
       "      <td>Male</td>\n",
       "      <td>87.2</td>\n",
       "      <td>1.64</td>\n",
       "      <td>177</td>\n",
       "      <td>165</td>\n",
       "      <td>50</td>\n",
       "      <td>2.00</td>\n",
       "      <td>1634</td>\n",
       "      <td>Strength</td>\n",
       "      <td>15.0</td>\n",
       "      <td>3.5</td>\n",
       "      <td>4</td>\n",
       "      <td>3</td>\n",
       "      <td>32.42</td>\n",
       "    </tr>\n",
       "    <tr>\n",
       "      <th>66</th>\n",
       "      <td>32</td>\n",
       "      <td>Male</td>\n",
       "      <td>85.9</td>\n",
       "      <td>1.60</td>\n",
       "      <td>176</td>\n",
       "      <td>145</td>\n",
       "      <td>60</td>\n",
       "      <td>1.99</td>\n",
       "      <td>1587</td>\n",
       "      <td>HIIT</td>\n",
       "      <td>14.5</td>\n",
       "      <td>3.5</td>\n",
       "      <td>5</td>\n",
       "      <td>3</td>\n",
       "      <td>33.55</td>\n",
       "    </tr>\n",
       "    <tr>\n",
       "      <th>348</th>\n",
       "      <td>41</td>\n",
       "      <td>Female</td>\n",
       "      <td>62.3</td>\n",
       "      <td>1.79</td>\n",
       "      <td>181</td>\n",
       "      <td>162</td>\n",
       "      <td>73</td>\n",
       "      <td>1.99</td>\n",
       "      <td>1451</td>\n",
       "      <td>Yoga</td>\n",
       "      <td>19.0</td>\n",
       "      <td>2.7</td>\n",
       "      <td>5</td>\n",
       "      <td>3</td>\n",
       "      <td>19.44</td>\n",
       "    </tr>\n",
       "    <tr>\n",
       "      <th>848</th>\n",
       "      <td>28</td>\n",
       "      <td>Female</td>\n",
       "      <td>55.1</td>\n",
       "      <td>1.79</td>\n",
       "      <td>192</td>\n",
       "      <td>159</td>\n",
       "      <td>67</td>\n",
       "      <td>1.99</td>\n",
       "      <td>1582</td>\n",
       "      <td>Yoga</td>\n",
       "      <td>17.0</td>\n",
       "      <td>2.7</td>\n",
       "      <td>5</td>\n",
       "      <td>3</td>\n",
       "      <td>17.20</td>\n",
       "    </tr>\n",
       "    <tr>\n",
       "      <th>943</th>\n",
       "      <td>59</td>\n",
       "      <td>Male</td>\n",
       "      <td>85.5</td>\n",
       "      <td>1.67</td>\n",
       "      <td>190</td>\n",
       "      <td>144</td>\n",
       "      <td>71</td>\n",
       "      <td>1.99</td>\n",
       "      <td>1418</td>\n",
       "      <td>Cardio</td>\n",
       "      <td>15.0</td>\n",
       "      <td>3.5</td>\n",
       "      <td>5</td>\n",
       "      <td>3</td>\n",
       "      <td>30.66</td>\n",
       "    </tr>\n",
       "  </tbody>\n",
       "</table>\n",
       "</div>"
      ],
      "text/plain": [
       "     Age  Gender  Weight (kg)  Height (m)  Max_BPM  Avg_BPM  Resting_BPM  \\\n",
       "728   47    Male         87.2        1.64      177      165           50   \n",
       "66    32    Male         85.9        1.60      176      145           60   \n",
       "348   41  Female         62.3        1.79      181      162           73   \n",
       "848   28  Female         55.1        1.79      192      159           67   \n",
       "943   59    Male         85.5        1.67      190      144           71   \n",
       "\n",
       "     Session_Duration (hours)  Calories_Burned Workout_Type  Fat_Percentage  \\\n",
       "728                      2.00             1634     Strength            15.0   \n",
       "66                       1.99             1587         HIIT            14.5   \n",
       "348                      1.99             1451         Yoga            19.0   \n",
       "848                      1.99             1582         Yoga            17.0   \n",
       "943                      1.99             1418       Cardio            15.0   \n",
       "\n",
       "     Water_Intake (liters)  Workout_Frequency (days/week)  Experience_Level  \\\n",
       "728                    3.5                              4                 3   \n",
       "66                     3.5                              5                 3   \n",
       "348                    2.7                              5                 3   \n",
       "848                    2.7                              5                 3   \n",
       "943                    3.5                              5                 3   \n",
       "\n",
       "       BMI  \n",
       "728  32.42  \n",
       "66   33.55  \n",
       "348  19.44  \n",
       "848  17.20  \n",
       "943  30.66  "
      ]
     },
     "execution_count": 38,
     "metadata": {},
     "output_type": "execute_result"
    }
   ],
   "source": [
    "#Q17 Find the top 5 members with the most exercise sessions.                                      \n",
    "df.nlargest(5,'Session_Duration (hours)')"
   ]
  },
  {
   "cell_type": "code",
   "execution_count": 40,
   "id": "22498293",
   "metadata": {},
   "outputs": [
    {
     "name": "stdout",
     "output_type": "stream",
     "text": [
      "The first quartile of the weight column is 58.1\n",
      "The second quartile of the weight column is 70.0\n",
      "The third quartile of the weight column is 86.0\n"
     ]
    }
   ],
   "source": [
    "#Q18 Find the quartiles of the column ”Weight (Kg)”.\n",
    "Q1=df['Weight (kg)'].quantile(0.25)\n",
    "Q2=df['Weight (kg)'].quantile(0.50)\n",
    "Q3=df['Weight (kg)'].quantile(0.75)\n",
    "print(\"The first quartile of the weight column is\",Q1)\n",
    "print(\"The second quartile of the weight column is\",Q2)\n",
    "print(\"The third quartile of the weight column is\",Q3)"
   ]
  },
  {
   "cell_type": "code",
   "execution_count": 44,
   "id": "aac6551b",
   "metadata": {},
   "outputs": [
    {
     "name": "stdout",
     "output_type": "stream",
     "text": [
      "The interquartile range for the weight column is  27.9\n",
      "The lower limit of the weight column is given by 16.25\n",
      "The upper limit of the weight column is given by 127.85\n"
     ]
    }
   ],
   "source": [
    "#Q19 Find the Inter Quartile Range.\n",
    "IQR=Q3-Q1\n",
    "print(\"The interquartile range for the weight column is \",IQR)\n",
    "Lower_Limit=Q1-1.5*IQR\n",
    "Upper_Limit=Q3+1.5*IQR\n",
    "print(\"The lower limit of the weight column is given by\",Lower_Limit.round(4))\n",
    "print(\"The upper limit of the weight column is given by\",Upper_Limit)"
   ]
  },
  {
   "cell_type": "code",
   "execution_count": 52,
   "id": "e6c57285",
   "metadata": {},
   "outputs": [
    {
     "name": "stdout",
     "output_type": "stream",
     "text": [
      "The number of the outlier is 9\n"
     ]
    }
   ],
   "source": [
    "#Q20 Check if there is any outlier in the column “Weight (Kg) ” or not.                           \n",
    "outlier=df[(df['Weight (kg)']<Lower_Limit)|(df['Weight (kg)']>Upper_Limit)].count()[0]\n",
    "print(\"The number of the outlier is\",outlier)"
   ]
  },
  {
   "cell_type": "code",
   "execution_count": 53,
   "id": "b9f32532",
   "metadata": {},
   "outputs": [
    {
     "data": {
      "text/plain": [
       "Index(['Age', 'Gender', 'Weight (kg)', 'Height (m)', 'Max_BPM', 'Avg_BPM',\n",
       "       'Resting_BPM', 'Session_Duration (hours)', 'Calories_Burned',\n",
       "       'Workout_Type', 'Fat_Percentage', 'Water_Intake (liters)',\n",
       "       'Workout_Frequency (days/week)', 'Experience_Level', 'BMI'],\n",
       "      dtype='object')"
      ]
     },
     "execution_count": 53,
     "metadata": {},
     "output_type": "execute_result"
    }
   ],
   "source": [
    "df.columns"
   ]
  },
  {
   "cell_type": "code",
   "execution_count": 55,
   "id": "ad63caab",
   "metadata": {},
   "outputs": [
    {
     "data": {
      "text/plain": [
       "Workout_Type\n",
       "Cardio      1.22\n",
       "HIIT        1.29\n",
       "Strength    1.26\n",
       "Yoga        1.26\n",
       "Name: Session_Duration (hours), dtype: float64"
      ]
     },
     "execution_count": 55,
     "metadata": {},
     "output_type": "execute_result"
    }
   ],
   "source": [
    "#Q21 How does the average duration vary across different exercise types (e.g. using a bar plot)\n",
    "df.groupby(\"Workout_Type\")['Session_Duration (hours)'].mean().round(2)"
   ]
  },
  {
   "cell_type": "code",
   "execution_count": 59,
   "id": "315219a7",
   "metadata": {},
   "outputs": [
    {
     "name": "stdout",
     "output_type": "stream",
     "text": [
      "The number of members with less than 5 excercise session is 871\n"
     ]
    }
   ],
   "source": [
    "#Q22 Identify members with less than 5 exercise sessions.\n",
    "n=df[df['Workout_Frequency (days/week)']<5].count()[0]\n",
    "print(\"The number of members with less than 5 excercise session is\",n)"
   ]
  },
  {
   "cell_type": "code",
   "execution_count": 61,
   "id": "a86ac798",
   "metadata": {},
   "outputs": [
    {
     "data": {
      "text/plain": [
       "0.9081"
      ]
     },
     "execution_count": 61,
     "metadata": {},
     "output_type": "execute_result"
    }
   ],
   "source": [
    "#Q23 Find the correlation between exercise duration and any numeric variable (e.g. calories burned if present)                                                                                                                                                                                       \n",
    "df['Session_Duration (hours)'].corr(df['Calories_Burned']).round(4)"
   ]
  },
  {
   "cell_type": "code",
   "execution_count": 129,
   "id": "a7ca65f5",
   "metadata": {},
   "outputs": [
    {
     "data": {
      "image/png": "[encoded data removed]",
      "text/plain": [
       "<Figure size 640x480 with 1 Axes>"
      ]
     },
     "metadata": {},
     "output_type": "display_data"
    }
   ],
   "source": [
    "#Q24 Which month has the highest total exercise duration?\n",
    "#creat a boxplot for the column 'Calories_Burned' and check if there is any outliers or not.\n",
    "sns.boxplot(df['Calories_Burned'])\n",
    "plt.show()\n",
    "#By looking at the boxplot we can say that there is an outlier in the column \"calories burned\""
   ]
  },
  {
   "cell_type": "code",
   "execution_count": 62,
   "id": "5aad13c4",
   "metadata": {},
   "outputs": [
    {
     "data": {
      "text/plain": [
       "Index(['Age', 'Gender', 'Weight (kg)', 'Height (m)', 'Max_BPM', 'Avg_BPM',\n",
       "       'Resting_BPM', 'Session_Duration (hours)', 'Calories_Burned',\n",
       "       'Workout_Type', 'Fat_Percentage', 'Water_Intake (liters)',\n",
       "       'Workout_Frequency (days/week)', 'Experience_Level', 'BMI'],\n",
       "      dtype='object')"
      ]
     },
     "execution_count": 62,
     "metadata": {},
     "output_type": "execute_result"
    }
   ],
   "source": [
    "df.columns"
   ]
  },
  {
   "cell_type": "code",
   "execution_count": 63,
   "id": "beda0ffc",
   "metadata": {},
   "outputs": [
    {
     "data": {
      "text/plain": [
       "1.26"
      ]
     },
     "execution_count": 63,
     "metadata": {},
     "output_type": "execute_result"
    }
   ],
   "source": [
    "#Q25 What is the median duration of all exercise sessions?\n",
    "df['Session_Duration (hours)'].median()"
   ]
  },
  {
   "cell_type": "code",
   "execution_count": 65,
   "id": "d1260326",
   "metadata": {},
   "outputs": [
    {
     "name": "stdout",
     "output_type": "stream",
     "text": [
      "Total number of unique exercise types is 4\n"
     ]
    }
   ],
   "source": [
    "#Q26 What is the total number of unique exercise types?                                       \n",
    "df['Workout_Type'].nunique()\n",
    "print(\"Total number of unique exercise types is\",df['Workout_Type'].nunique())"
   ]
  },
  {
   "cell_type": "code",
   "execution_count": 72,
   "id": "b07c912c",
   "metadata": {},
   "outputs": [
    {
     "name": "stdout",
     "output_type": "stream",
     "text": [
      "Workout_Type\n",
      "Cardio      1.2201\n",
      "HIIT        1.2871\n",
      "Strength    1.2602\n",
      "Yoga        1.2628\n",
      "Name: Session_Duration (hours), dtype: float64\n",
      "Exercise type has the highest average duration is 1.2871\n"
     ]
    }
   ],
   "source": [
    "#Q27 Which exercise type has the highest average duration?\n",
    "df.groupby('Workout_Type')['Session_Duration (hours)'].mean().round(4)\n",
    "print(df.groupby('Workout_Type')['Session_Duration (hours)'].mean().round(4))\n",
    "max=df.groupby('Workout_Type')['Session_Duration (hours)'].mean().round(4).max()\n",
    "max\n",
    "print(\"Exercise type has the highest average duration is\",max)"
   ]
  },
  {
   "cell_type": "code",
   "execution_count": 77,
   "id": "1d699a75",
   "metadata": {},
   "outputs": [
    {
     "name": "stdout",
     "output_type": "stream",
     "text": [
      "The standard deviation of exercise duration for all members is 0.3430334803899634\n"
     ]
    }
   ],
   "source": [
    "#Q28 What is the standard deviation of exercise duration for all members?\n",
    "std_dev=df['Session_Duration (hours)'].std()\n",
    "print(\"The standard deviation of exercise duration for all members is\",std_dev)"
   ]
  },
  {
   "cell_type": "code",
   "execution_count": 87,
   "id": "9e267c33",
   "metadata": {},
   "outputs": [
    {
     "name": "stdout",
     "output_type": "stream",
     "text": [
      "Workout_Type\n",
      "Strength    325.12\n",
      "Cardio      311.12\n",
      "Yoga        301.82\n",
      "HIIT        284.44\n",
      "Name: Session_Duration (hours), dtype: float64\n",
      "             \n",
      "The top 3 exercises with the highest total duration: Workout_Type\n",
      "Strength    325.12\n",
      "Cardio      311.12\n",
      "Yoga        301.82\n",
      "Name: Session_Duration (hours), dtype: float64\n"
     ]
    }
   ],
   "source": [
    "#Q29 Identify the top 3 exercises with the highest total duration.                                                                                               \n",
    "X=df.groupby(\"Workout_Type\")['Session_Duration (hours)'].sum().sort_values(ascending=False)\n",
    "print(X)\n",
    "print(\"             \",end='\\n')\n",
    "print(\"The top 3 exercises with the highest total duration:\",X.head(3))"
   ]
  },
  {
   "cell_type": "code",
   "execution_count": 102,
   "id": "c447dd79",
   "metadata": {},
   "outputs": [
    {
     "name": "stdout",
     "output_type": "stream",
     "text": [
      "Number of sessions more than 1 hour long 778\n",
      "Total number of gym members  973\n",
      "percent of sessions more than 1 hour long 79.9589 %\n"
     ]
    }
   ],
   "source": [
    "#Q30 What percent of sessions are more than 1 hour long?                                               \n",
    "x=df[df['Session_Duration (hours)']>1].count()[0]\n",
    "print(\"Number of sessions more than 1 hour long\",x)\n",
    "y=df.shape[0]\n",
    "print(\"Total number of gym members \",y)\n",
    "print(\"percent of sessions more than 1 hour long\",(x/y*100).round(4),\"%\")"
   ]
  },
  {
   "cell_type": "code",
   "execution_count": 104,
   "id": "1682aa8f",
   "metadata": {},
   "outputs": [
    {
     "data": {
      "image/png": "[encoded data removed]",
      "text/plain": [
       "<Figure size 640x480 with 1 Axes>"
      ]
     },
     "metadata": {},
     "output_type": "display_data"
    }
   ],
   "source": [
    "#Q31 What is the distribution of exercise durations (e.g. using a histogram)?            \n",
    "sns.histplot(df['Session_Duration (hours)'])\n",
    "plt.show()"
   ]
  },
  {
   "cell_type": "code",
   "execution_count": 115,
   "id": "29358bde",
   "metadata": {},
   "outputs": [
    {
     "name": "stdout",
     "output_type": "stream",
     "text": [
      "The first quartile for the column Excercise is 1.04\n",
      "The second quartile for the column Excercise is 1.26\n",
      "The third quartile for the column Excercise is 1.46\n",
      "The inter quartile range for the Session_Duration (hours)  0.42\n",
      "The upper limit is given by 2.09\n",
      "The lower limit is given by 0.41\n",
      "The number of outlier is 0\n"
     ]
    }
   ],
   "source": [
    "#Q32 Are there any outliers in exercise duration?(e.g.,using a boxplot)\n",
    "Q1=df['Session_Duration (hours)'].quantile(0.25)\n",
    "Q2=df['Session_Duration (hours)'].quantile(0.5)\n",
    "Q3=df['Session_Duration (hours)'].quantile(0.75)\n",
    "print(\"The first quartile for the column Excercise is\",Q1)\n",
    "print(\"The second quartile for the column Excercise is\",Q2)\n",
    "print(\"The third quartile for the column Excercise is\",Q3)\n",
    "IQR=Q3-Q1\n",
    "print(\"The inter quartile range for the Session_Duration (hours) \",IQR.round(4))\n",
    "Lower_Limit=Q1-1.5*IQR\n",
    "Upper_Limit=Q3+1.5*IQR\n",
    "print(\"The upper limit is given by\",Upper_Limit)\n",
    "print(\"The lower limit is given by\",Lower_Limit.round(4))\n",
    "n=df[(df['Session_Duration (hours)']<Lower_Limit)|(df['Session_Duration (hours)']>Upper_Limit)].count()[0]\n",
    "print(\"The number of outlier is\",n)"
   ]
  },
  {
   "cell_type": "code",
   "execution_count": 116,
   "id": "5645ab5e",
   "metadata": {},
   "outputs": [
    {
     "data": {
      "text/plain": [
       "2.0"
      ]
     },
     "execution_count": 116,
     "metadata": {},
     "output_type": "execute_result"
    }
   ],
   "source": [
    "df['Session_Duration (hours)'].max()"
   ]
  },
  {
   "cell_type": "code",
   "execution_count": 117,
   "id": "54eca4ea",
   "metadata": {},
   "outputs": [
    {
     "data": {
      "text/plain": [
       "0.5"
      ]
     },
     "execution_count": 117,
     "metadata": {},
     "output_type": "execute_result"
    }
   ],
   "source": [
    "df['Session_Duration (hours)'].min()"
   ]
  },
  {
   "cell_type": "code",
   "execution_count": null,
   "id": "3c24b756",
   "metadata": {},
   "outputs": [],
   "source": []
  },
  {
   "cell_type": "code",
   "execution_count": null,
   "id": "cb93636d",
   "metadata": {},
   "outputs": [],
   "source": []
  }
 ],
 "metadata": {
  "kernelspec": {
   "display_name": "Python 3 (ipykernel)",
   "language": "python",
   "name": "python3"
  },
  "language_info": {
   "codemirror_mode": {
    "name": "ipython",
    "version": 3
   },
   "file_extension": ".py",
   "mimetype": "text/x-python",
   "name": "python",
   "nbconvert_exporter": "python",
   "pygments_lexer": "ipython3",
   "version": "3.11.4"
  }
 },
 "nbformat": 4,
 "nbformat_minor": 5
}
